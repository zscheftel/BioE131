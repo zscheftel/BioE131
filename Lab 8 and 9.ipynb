{
 "cells": [
  {
   "cell_type": "markdown",
   "metadata": {},
   "source": [
    "# Lab 8 and 9"
   ]
  },
  {
   "cell_type": "markdown",
   "metadata": {},
   "source": [
    "### Genome assembly with SPAdes \n",
    "We ran the hybrid genome assembler SPAdes in terminal.  We use high-quality Illumina short read sets with as well as a high error rate PacBio long-read set.\n",
    "\n",
    "Our command is\n",
    "```\n",
    "be131-23@meowth:~$ spades.py -1 /../../data/lab8/illumina_reads_R1.fastq -2 /../../data//lab8/illumina_reads_R2.fastq  --pacbio/../../data/lab8/pacbio_reads.fastq -t 1 -o spades_output\n",
    "```\n",
    "\n",
    "This assembly ran for approximately 13 hours on one core.\n",
    "\n",
    "The output includes reads corrected reads, scaffolds (sets of contigs stitched in order), contigs (contiguous sequences), and SPAdes assembly graphs."
   ]
  },
  {
   "cell_type": "markdown",
   "metadata": {},
   "source": [
    "### Assembly statistics\n",
    "\n",
    "After running ```assembly-stats``` we obtain the following statistics for our genome assembly:\n",
    "\n",
    "```\n",
    "be131-23@meowth:~$ assembly-stats spades_output/contigs.fasta spades_output/scaffolds.fasta\n",
    "\n",
    "stats for spades_output/contigs.fasta\n",
    "sum = 6678635, n = 176, ave = 37946.79, largest = 414008\n",
    "N50 = 234690, n = 11\n",
    "N60 = 202142, n = 14\n",
    "N70 = 154232, n = 18\n",
    "N80 = 103367, n = 23\n",
    "N90 = 81286, n = 30\n",
    "N100 = 128, n = 176\n",
    "N_count = 0\n",
    "Gaps = 0\n",
    "-------------------------------------------------------------------------------\n",
    "stats for spades_output/scaffolds.fasta\n",
    "sum = 6678655, n = 174, ave = 38383.07, largest = 414008\n",
    "N50 = 234690, n = 11\n",
    "N60 = 202142, n = 14\n",
    "N70 = 154232, n = 18\n",
    "N80 = 103367, n = 23\n",
    "N90 = 81821, n = 30\n",
    "N100 = 128, n = 174\n",
    "N_count = 20\n",
    "Gaps = 2\n",
    "```"
   ]
  },
  {
   "cell_type": "markdown",
   "metadata": {},
   "source": [
    "The N50 statistic is useful in that it is a median statistic that allows for greater weighting of longer contigs, so that instead of guessing as to the distribution of longer contigs in an assembly, we have a better idea of how many contigs are greater than the actual mean/median.  In our assembly, scaffolds are approximately equal to contigs, with N50-N80 values being the same, and the N90 for contigs being only 5 bases longer than that for scaffolds."
   ]
  },
  {
   "cell_type": "markdown",
   "metadata": {},
   "source": [
    "### rRNA gene identification\n",
    "We then used the rna_hmm3 python script used by Huang, Y., et al to identify ribosomal RNA genes in our genome to locate copies of the 16S gene.\n",
    "\n",
    "```\n",
    "rna_hmm3.py -i spades_output/contigs.fasta -o rna_search.gff\n",
    "```\n",
    "\n",
    "Our output file ```rna_search.gff``` returned approximately 20 genes, which we manually pruned down to six 16S_rRNA genes."
   ]
  },
  {
   "cell_type": "markdown",
   "metadata": {},
   "source": [
    "We attempted to use Ribosomal Database Project's SeqMatch tool to identify our 16S sequences, but for unknown reasons the web tool was not working or did not return any matches back to the database.  Instead, we chose to match the 16S genes against the NCBI nucleotide BLAST on the 16S ribosomal RNA database.\n",
    "\n",
    "For all six genes, we received the most significant alignments to 16S ribosomal RNA genes for strains in the Pseudomonas genus, with highest scores for specie lini, silesiensis, and frederiksbergensis.  We can comfortably narrow down our results to the Pseudomonas genus, as none of our BLAST results matched to any other genus of bacteria."
   ]
  },
  {
   "cell_type": "markdown",
   "metadata": {},
   "source": [
    "### Genome annotation"
   ]
  },
  {
   "cell_type": "markdown",
   "metadata": {},
   "source": [
    "We have sent in the genome via file contigs.fasta to genome annotation tools RAST and BASys."
   ]
  },
  {
   "cell_type": "markdown",
   "metadata": {},
   "source": [
    "<img src = 'protein_composition.png'>\n",
    "Figure 1: Frequency of amino acid composition from our strain, according to RAST.\n",
    "\n",
    "<img src = 'basys_annotation.png'>\n",
    "Figure 2: Annotation of protein functions by BASys"
   ]
  },
  {
   "cell_type": "markdown",
   "metadata": {},
   "source": [
    "### Analysis\n",
    "The alignments most strongly matched those of the genus Pseudomonas, specifically the specie lini, silesiensis, and frederiksbergensis. The size of the genome is 6,678,635 base pairs, with a GC content of 57.8% and a total of 6352 coding subsequences. According to our RAST genome annotation, some of the highest scoring, closest neighbors include Pseudomonas aeruginosa and Pseudomonas fluorescens.  According to our BASys annotation summary, our strain is gram-positive, which contrasts to the close family member of Pseudomonas aeruginosa, which is gram-negative.\n",
    "   \n",
    "   The Pseudomonas genus is a quite common genus of mildly infectious bacteria that usually reside in water, damp areas, or soil. Members of this genus thrive in wet and warm conditions. For example, Pseudomonas lini is known to inhabit the rhizospheric soil, the layer of soil that directly borders the roots of plants and thus exchanges matter and energy with aforementioned roots, of parts of France. Members are also known to grow on certain kinds of food, such as fruit, that can lead to human infection in some cases.\n",
    "\n",
    "   Members of the Pseudomonas genus are generally non-infectious to healthy individuals, but they can be dangerous to those who are surrounded by wet or damp environments, have a compromised immune systems, or have exposed wounds. For example, members of this genus are known to cause relatively common infections such as “swimmer’s ear” and “hot tub rash.” \n",
    "\n",
    "   Additionally, some specie are known to fluoresce. The species Pseudomonas aeruginosa secretes a fluorescent molecule known as pyoverdin, and after analysis of its subsystems it was determined that there are at least 29 genes that encode information related to the pathway that creates vyoperdin.\n",
    "\n",
    "   Furthermore, the genome of Pseudomonas aeruginosa was found to contain a very high number of genes dedicated to regulatory expression, a total of 8.4% of all genes (Stover, C. K., et al.). The data for Pseudomonas sp. contains at least 87 features that relate to regulation or regulatory processes, while Pseudomonas aeruginosa contains a total of 161 such features. \n",
    "This relatively high number of regulatory genes has contributed to this genus’s members’ unusual capacity to resist antibiotic treatment, a characteristic of this genome that has caused some concern among medical professionals.\n",
    "\n",
    "   The Pseudomonas genus is also known to have predominantly aerobic respiratory system, but to use nitrogen as an electron acceptor under anaerobic conditions (Palleroni). Pseudomonas sp. has a total of 109 features related to respiration, with an additional 53 related to nitrogen metabolism. Similarly, Pseudomonas aeruginosa has a total of 151 features related to respiration, with an additional 78 related to nitrogen metabolism.\n",
    "\n",
    "   From our genome annotations, we see that the amino acid composition for our strain includes all amino acids, indicating that our Pseudomonas strain is not auxotrophic for any given amino acid, with only cysteine being produced at a lower rate.  This is consistent with Pseudomonas aeruginosa and and Pseudomonas fluorescens, which also show no auxotrophy in wild-type strains.\n",
    "\n",
    "\n",
    "\n",
    "Palleroni, Norberto J. “Pseudomonas.” Wiley Online Library, American Cancer Society, 14 Sept. 2015, onlinelibrary.wiley.com/doi/full/10.1002/9781118960608.gbm01210.\n",
    "\n",
    "Stover, C. K., et al. “Complete Genome Sequence of Pseudomonas Aeruginosa PAO1, an Opportunistic Pathogen.” Nature News, Nature Publishing Group, 31 Aug. 2000, www.nature.com/articles/35023079."
   ]
  }
 ],
 "metadata": {
  "kernelspec": {
   "display_name": "Python 3",
   "language": "python",
   "name": "python3"
  },
  "language_info": {
   "codemirror_mode": {
    "name": "ipython",
    "version": 3
   },
   "file_extension": ".py",
   "mimetype": "text/x-python",
   "name": "python",
   "nbconvert_exporter": "python",
   "pygments_lexer": "ipython3",
   "version": "3.6.6"
  }
 },
 "nbformat": 4,
 "nbformat_minor": 2
}
