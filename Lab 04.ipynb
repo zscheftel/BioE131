{
 "cells": [
  {
   "cell_type": "code",
   "execution_count": 112,
   "metadata": {},
   "outputs": [],
   "source": [
    "import sqlite3\n",
    "from Bio import Entrez, SeqIO, SeqFeature\n",
    "from Bio import SeqIO\n",
    "from Bio.KEGG.REST import *\n",
    "from Bio.KEGG.KGML import KGML_parser\n",
    "\n",
    "# A bit of helper code to shorten long text\n",
    "def head(text, lines=10):\n",
    "    \"\"\" Print the first lines lines of the passed text.\n",
    "    \"\"\"\n",
    "    print ('\\n'.join(text.split('\\n')[:lines] + ['[...]']))"
   ]
  },
  {
   "cell_type": "markdown",
   "metadata": {},
   "source": [
    "After looking at the KEGG database for pathways and enzymes, we choose the following four enzymes to search for their relevant genes:\n",
    "\n",
    "acdA (acetate---CoA ligase (ADP-forming) subunit alpha), EC:6.2.1.13\n",
    "\n",
    "ALDO (fructose-biphosphate aldolase, class I), EC:4.1.2.13\n",
    "\n",
    "IDH1 (isocitrate dehydrogenase), EC:1.1.1.42\n",
    "\n",
    "ADA (acetaldehyde dehydrogenase) EC:1.2.1.10"
   ]
  },
  {
   "cell_type": "markdown",
   "metadata": {},
   "source": [
    "In the bottom cell, we call the Entrez database to search for the 20 most relevant genes to each of these enzymes by search term, and store them in individual handles."
   ]
  },
  {
   "cell_type": "code",
   "execution_count": 113,
   "metadata": {},
   "outputs": [],
   "source": [
    "Entrez.email = '15liforrest@berkeley.edu'\n",
    "handle1 = Entrez.esearch(db='nucleotide',\n",
    "                       term = 'isocitrate dehydrogenase',\n",
    "                       sort = 'relevance',\n",
    "                       idtype = 'acc')\n",
    "handle2 = Entrez.esearch(db='nucleotide',\n",
    "                       term = 'acetaldehyde dehydrogenase',\n",
    "                       sort = 'relevance',\n",
    "                       idtype = 'acc')\n",
    "handle3 = Entrez.esearch(db='nucleotide',\n",
    "                       term = 'CoA ligase',\n",
    "                       sort = 'relevance',\n",
    "                       idtype = 'acc')\n",
    "handle4 = Entrez.esearch(db='nucleotide',\n",
    "                       term = 'fructose-biphosphate aldolase',\n",
    "                       sort = 'relevance',\n",
    "                       idtype = 'acc')\n",
    "handles = [handle1, handle2, handle3, handle4]"
   ]
  },
  {
   "cell_type": "code",
   "execution_count": 114,
   "metadata": {},
   "outputs": [],
   "source": [
    "handle5 = Entrez.esearch(db='protein',\n",
    "                       term = 'glycolysis',\n",
    "                       sort = 'relevance',\n",
    "                       idtype = 'acc')"
   ]
  },
  {
   "cell_type": "markdown",
   "metadata": {},
   "source": [
    "In the following cells, we fetch each gene, parse its data, and add them to individual data lists.  These are done in independent cells due to connectivity and runtime issues we had when collecting the data."
   ]
  },
  {
   "cell_type": "code",
   "execution_count": 115,
   "metadata": {},
   "outputs": [],
   "source": [
    "data = []\n",
    "for i in Entrez.read(handle1)['IdList']:\n",
    "    handle = Entrez.efetch(db='nucleotide', id=i, rettype = 'gb', retmode= 'text')\n",
    "    nextSeq = list(SeqIO.parse(handle, 'genbank'))\n",
    "    data.append(nextSeq[0])"
   ]
  },
  {
   "cell_type": "code",
   "execution_count": 116,
   "metadata": {},
   "outputs": [],
   "source": [
    "datab = []\n",
    "for i in Entrez.read(handle2)['IdList']:\n",
    "    handle = Entrez.efetch(db='nucleotide', id=i, rettype = 'gb', retmode= 'text')\n",
    "    nextSeq = list(SeqIO.parse(handle, 'genbank'))\n",
    "    datab.append(nextSeq[0])"
   ]
  },
  {
   "cell_type": "code",
   "execution_count": 117,
   "metadata": {},
   "outputs": [],
   "source": [
    "datac = []\n",
    "for i in Entrez.read(handle3)['IdList']:\n",
    "    handle = Entrez.efetch(db='nucleotide', id=i, rettype = 'gb', retmode= 'text')\n",
    "    nextSeq = list(SeqIO.parse(handle, 'genbank'))\n",
    "    datac.append(nextSeq[0])"
   ]
  },
  {
   "cell_type": "code",
   "execution_count": 118,
   "metadata": {},
   "outputs": [],
   "source": [
    "datad = []\n",
    "for i in Entrez.read(handle4)['IdList']:\n",
    "    handle = Entrez.efetch(db='nucleotide', id=i, rettype = 'gb', retmode= 'text')\n",
    "    nextSeq = list(SeqIO.parse(handle, 'genbank'))\n",
    "    datad.append(nextSeq[0])"
   ]
  },
  {
   "cell_type": "code",
   "execution_count": 119,
   "metadata": {},
   "outputs": [
    {
     "name": "stderr",
     "output_type": "stream",
     "text": [
      "c:\\users\\zsche\\appdata\\local\\programs\\python\\python37\\lib\\site-packages\\Bio\\GenBank\\__init__.py:1063: BiopythonParserWarning: Dropping bond qualifier in feature location\n",
      "  warnings.warn(\"Dropping bond qualifier in feature location\", BiopythonParserWarning)\n"
     ]
    }
   ],
   "source": [
    "datae = []\n",
    "for i in Entrez.read(handle5)['IdList']:\n",
    "    handle = Entrez.efetch(db='nucleotide', id=i, rettype = 'gb', retmode= 'text')\n",
    "    nextSeq = list(SeqIO.parse(handle, 'genbank'))\n",
    "    datae.append(nextSeq[0])"
   ]
  },
  {
   "cell_type": "code",
   "execution_count": 120,
   "metadata": {},
   "outputs": [
    {
     "name": "stdout",
     "output_type": "stream",
     "text": [
      "20\n"
     ]
    }
   ],
   "source": [
    "print(len(datae))"
   ]
  },
  {
   "cell_type": "markdown",
   "metadata": {},
   "source": [
    "We now pull from KEGG to create entries for our pathways database."
   ]
  },
  {
   "cell_type": "code",
   "execution_count": 121,
   "metadata": {},
   "outputs": [],
   "source": [
    "datap = []\n",
    "datap.append(KGML_parser.read(kegg_get(\"hsa05130\", \"kgml\").read()))\n",
    "datap.append(KGML_parser.read(kegg_get(\"ko00020\", \"kgml\").read())) #Citrate cycle\n",
    "datap.append(KGML_parser.read(kegg_get(\"ko00030\", \"kgml\").read())) #Pentose phosphate cycle\n",
    "datap.append(KGML_parser.read(kegg_get(\"ko00620\", \"kgml\").read())) #Pyruvate metabolism"
   ]
  },
  {
   "cell_type": "markdown",
   "metadata": {},
   "source": [
    "In the bottom cell, we create a SQLite database with three tables - genes, enzymes, and pathways.  In the cells following, we parse the data from the Entrez queries and input them into genes with id, name, description, organism, and sequence data."
   ]
  },
  {
   "cell_type": "code",
   "execution_count": 122,
   "metadata": {},
   "outputs": [
    {
     "data": {
      "text/plain": [
       "<sqlite3.Cursor at 0x24b54725490>"
      ]
     },
     "execution_count": 122,
     "metadata": {},
     "output_type": "execute_result"
    }
   ],
   "source": [
    "conn = sqlite3.connect('my.db')\n",
    "c = conn.cursor()\n",
    "c.execute(\"\"\"DROP TABLE genes\"\"\")\n",
    "c.execute(\"\"\"DROP TABLE enzymes\"\"\")\n",
    "c.execute(\"\"\"DROP TABLE pathways\"\"\")\n",
    "c.execute(\"\"\"CREATE TABLE genes (id TEXT,\n",
    "                                name TEXT,\n",
    "                                description TEXT,\n",
    "                                organism TEXT,\n",
    "                                seq TEXT);\"\"\")\n",
    "c.execute(\"\"\"CREATE TABLE enzymes (ec TEXT,\n",
    "                                name TEXT,\n",
    "                                description TEXT);\"\"\")\n",
    "c.execute(\"\"\"CREATE TABLE pathways (name TEXT,\n",
    "                                number TEXT);\"\"\")"
   ]
  },
  {
   "cell_type": "code",
   "execution_count": 123,
   "metadata": {},
   "outputs": [],
   "source": [
    "for i in range(len(datap)):\n",
    "    record = datap[i]\n",
    "    recordName = \"\\'\" + str(record.name) + \"\\'\"\n",
    "    recordNum = \"\\'\" + str(record.number) + \"\\'\"\n",
    "    command = \"\"\"INSERT INTO pathways (name, number) \"\"\"\n",
    "    values = \"\"\"VALUES (\"\"\" + recordName + ', ' + recordNum + \");\"\n",
    "    command = command + values\n",
    "    c.execute(command)\n",
    "    conn.commit()"
   ]
  },
  {
   "cell_type": "code",
   "execution_count": 124,
   "metadata": {},
   "outputs": [],
   "source": [
    "for i in range(len(datae)):\n",
    "    record = datae[i]\n",
    "    recordName = \"\\'\" + str(record.name) + \"\\'\"\n",
    "    recordDes = \"\\'\" + str(record.description) + \"\\'\"\n",
    "    command = \"\"\"INSERT INTO enzymes (name, description) \"\"\"\n",
    "    values = \"\"\"VALUES (\"\"\" + recordName + ', ' + recordDes + \");\"\n",
    "    command = command + values\n",
    "    c.execute(command)\n",
    "    conn.commit()"
   ]
  },
  {
   "cell_type": "code",
   "execution_count": 125,
   "metadata": {},
   "outputs": [],
   "source": [
    "for data in [datab, datac]:\n",
    "    for i in range(len(data)):\n",
    "        record = data[i]\n",
    "        recordID = \"\\'\" + str(record.id) + \"\\'\"\n",
    "        recordName = \"\\'\" + str(record.name) + \"\\'\"\n",
    "        recordDes = \"\\'\" + str(record.description) + \"\\'\"\n",
    "        recordOrg = \"\\'\" + str(record.annotations['organism']) + \"\\'\"\n",
    "        recordSeq = \"\\'\" + str(record.seq) + \"\\'\"\n",
    "        command = \"\"\"INSERT INTO genes (id, name, description, organism, seq) \"\"\"\n",
    "        values = \"\"\"VALUES (\"\"\" + recordID + ', ' + recordName + ', ' + recordDes + ', ' + recordOrg + ',' + recordSeq + \");\"\n",
    "        command = command + values\n",
    "        c.execute(command)\n",
    "        conn.commit()"
   ]
  },
  {
   "cell_type": "code",
   "execution_count": 126,
   "metadata": {},
   "outputs": [
    {
     "name": "stdout",
     "output_type": "stream",
     "text": [
      "(20,)\n"
     ]
    }
   ],
   "source": [
    "c.execute(\"SELECT count(*) FROM enzymes\")\n",
    "print(c.fetchone())"
   ]
  },
  {
   "cell_type": "code",
   "execution_count": 127,
   "metadata": {},
   "outputs": [
    {
     "name": "stdout",
     "output_type": "stream",
     "text": [
      "(40,)\n"
     ]
    }
   ],
   "source": [
    "c.execute(\"SELECT count(*) FROM genes\")\n",
    "print(c.fetchone())"
   ]
  },
  {
   "cell_type": "code",
   "execution_count": 128,
   "metadata": {},
   "outputs": [
    {
     "name": "stdout",
     "output_type": "stream",
     "text": [
      "(4,)\n"
     ]
    }
   ],
   "source": [
    "c.execute(\"SELECT count(*) FROM pathways\")\n",
    "print(c.fetchone())"
   ]
  },
  {
   "cell_type": "code",
   "execution_count": null,
   "metadata": {},
   "outputs": [],
   "source": []
  }
 ],
 "metadata": {
  "kernelspec": {
   "display_name": "Python 3",
   "language": "python",
   "name": "python3"
  },
  "language_info": {
   "codemirror_mode": {
    "name": "ipython",
    "version": 3
   },
   "file_extension": ".py",
   "mimetype": "text/x-python",
   "name": "python",
   "nbconvert_exporter": "python",
   "pygments_lexer": "ipython3",
   "version": "3.7.0"
  }
 },
 "nbformat": 4,
 "nbformat_minor": 2
}
