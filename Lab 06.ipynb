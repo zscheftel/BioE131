{
 "cells": [
  {
   "cell_type": "code",
   "execution_count": 16,
   "metadata": {},
   "outputs": [],
   "source": [
    "import subprocess\n",
    "import sqlite3\n",
    "import pandas as pd"
   ]
  },
  {
   "cell_type": "markdown",
   "metadata": {},
   "source": [
    "In this lab, we aligned input reads against a Shewanella oneidensis reference genome using bowtie2 and samtools packages.  We found it easier to use the terminal for this lab and copied our commands into this notebook."
   ]
  },
  {
   "cell_type": "markdown",
   "metadata": {},
   "source": [
    "Below is the filtering of the input reads against the human genome database hg19, using the illumina_reads fastq.  unaligned.fastq contains the non-contaminated reads."
   ]
  },
  {
   "cell_type": "markdown",
   "metadata": {},
   "source": [
    "```\n",
    "be131-23@meowth:~$ bowtie2 -p 4 --very-fast --no-unal -x /../../data/hg19/hg19 -U /../../data/lab6/illumina_reads.fastq -S output.sam --un unaligned.fastq\n",
    "1124714 reads; of these:\n",
    "  1124714 (100.00%) were unpaired; of these:\n",
    "    1028379 (91.43%) aligned 0 times\n",
    "    87274 (7.76%) aligned exactly 1 time\n",
    "    9061 (0.81%) aligned >1 times\n",
    "8.57% overall alignment rate\n",
    "```"
   ]
  },
  {
   "cell_type": "markdown",
   "metadata": {},
   "source": [
    "Below is alignment of filtered reads against Shewanella oneidensis genome.  unaligned.fastq contains reads that don't align to the reference genome.  After that, we tried sequencing on --very-sensitive and received slightly higher alignment rate."
   ]
  },
  {
   "cell_type": "markdown",
   "metadata": {},
   "source": [
    "```\n",
    "be131-23@meowth:~$ bowtie2 -p 4 --very-fast --no-unal -x /../../data/lab6/shewanella_oneidensis_mr-1 -U unaligned.fastq -S output.sam --un new_unaligned.fastq\n",
    "1028379 reads; of these:\n",
    "  1028379 (100.00%) were unpaired; of these:\n",
    "    299560 (29.13%) aligned 0 times\n",
    "    687571 (66.86%) aligned exactly 1 time\n",
    "    41248 (4.01%) aligned >1 times\n",
    "70.87% overall alignment rate\n",
    "```"
   ]
  },
  {
   "cell_type": "markdown",
   "metadata": {},
   "source": [
    "```\n",
    "be131-23@meowth:~$ bowtie2 -p 4 --very-sensitive --no-unal -x /../../data/lab6/shewanella_oneidensis_mr-1 -U unaligned.fastq -Soutput_sens.sam --un new_unaligned.fastq\n",
    "1028379 reads; of these:\n",
    "  1028379 (100.00%) were unpaired; of these:\n",
    "    298112 (28.99%) aligned 0 times\n",
    "    688180 (66.92%) aligned exactly 1 time\n",
    "    42087 (4.09%) aligned >1 times\n",
    "71.01% overall alignment rate\n",
    "```"
   ]
  },
  {
   "cell_type": "markdown",
   "metadata": {},
   "source": [
    "In the following samtools commands, we convert SAM to BAM, sort the BAM file by coordinates, generate an index by alignment coordinates, then create a .tab file with a list of coordinates and the number of times a read is aligned to that position.\n",
    "\n",
    "```\n",
    "be131-23@meowth:~$ samtools view -b output_sens.sam > output_sens.bam\n",
    "be131-23@meowth:~$ samtools sort output_sens.bam > output_sens.sorted.bam\n",
    "be131-23@meowth:~$ samtools index output_sens.sorted.bam\n",
    "be131-23@meowth:~$ samtools depth output_sens.sorted.bam > depths.tab\n",
    "```"
   ]
  },
  {
   "cell_type": "code",
   "execution_count": 20,
   "metadata": {},
   "outputs": [],
   "source": [
    "depths = pd.read_csv('depths.tab', sep='\\t', lineterminator='\\n', header = None, names = ['Read', 'Position', 'Depth'])"
   ]
  },
  {
   "cell_type": "code",
   "execution_count": 81,
   "metadata": {},
   "outputs": [
    {
     "name": "stdout",
     "output_type": "stream",
     "text": [
      "Mean: 37.03933156165406\n",
      "Max: 281\n",
      "Min: 1\n"
     ]
    }
   ],
   "source": [
    "import numpy as np\n",
    "print('Mean: ' + str(np.mean(depths['Depth'])))\n",
    "print('Max: ' + str(max(depths['Depth'])))\n",
    "print('Min: ' + str(min(depths['Depth'])))"
   ]
  },
  {
   "cell_type": "markdown",
   "metadata": {},
   "source": [
    "The values listed above are the mean, max, and min values for the depths of coverage."
   ]
  },
  {
   "cell_type": "code",
   "execution_count": 22,
   "metadata": {},
   "outputs": [],
   "source": [
    "import matplotlib.pyplot as plt"
   ]
  },
  {
   "cell_type": "code",
   "execution_count": 83,
   "metadata": {},
   "outputs": [
    {
     "data": {
      "text/plain": [
       "[<matplotlib.lines.Line2D at 0x7fe304dcb898>]"
      ]
     },
     "execution_count": 83,
     "metadata": {},
     "output_type": "execute_result"
    },
    {
     "data": {
      "image/png": "[encoded data removed]",
      "text/plain": [
       "<Figure size 432x288 with 1 Axes>"
      ]
     },
     "metadata": {
      "needs_background": "light"
     },
     "output_type": "display_data"
    }
   ],
   "source": [
    "x = depths['Position']\n",
    "y = depths['Depth']\n",
    "plt.xlabel('Position in Genome') \n",
    "plt.ylabel('Depth of Coverage') \n",
    "plt.plot(x, y)"
   ]
  },
  {
   "cell_type": "code",
   "execution_count": 84,
   "metadata": {},
   "outputs": [
    {
     "data": {
      "text/plain": [
       "(array([  1446.,   6726.,  18560.,  32735.,  53691.,  89716., 142841.,\n",
       "        228731., 324900., 415869., 489804., 533525., 537644., 495315.,\n",
       "        422024., 335418., 250872., 186646., 128915.,  89253.,  59472.,\n",
       "         35795.,  23622.,  15145.,  10815.,   8503.,   6286.,   4897.,\n",
       "          3626.,   2474.,   1977.,   1615.,   2037.]),\n",
       " array([ 0,  3,  6,  9, 12, 15, 18, 21, 24, 27, 30, 33, 36, 39, 42, 45, 48,\n",
       "        51, 54, 57, 60, 63, 66, 69, 72, 75, 78, 81, 84, 87, 90, 93, 96, 99]),\n",
       " <a list of 33 Patch objects>)"
      ]
     },
     "execution_count": 84,
     "metadata": {},
     "output_type": "execute_result"
    },
    {
     "data": {
      "image/png": "[encoded data removed]",
      "text/plain": [
       "<Figure size 432x288 with 1 Axes>"
      ]
     },
     "metadata": {
      "needs_background": "light"
     },
     "output_type": "display_data"
    }
   ],
   "source": [
    "plt.xlabel('Depth of Coverage')\n",
    "plt.ylabel('Count')\n",
    "plt.hist(y, bins=[x for x in range(102) if x % 3 == 0], range = 100)"
   ]
  },
  {
   "cell_type": "code",
   "execution_count": null,
   "metadata": {},
   "outputs": [],
   "source": []
  },
  {
   "cell_type": "code",
   "execution_count": null,
   "metadata": {},
   "outputs": [],
   "source": []
  }
 ],
 "metadata": {
  "kernelspec": {
   "display_name": "Python 3",
   "language": "python",
   "name": "python3"
  },
  "language_info": {
   "codemirror_mode": {
    "name": "ipython",
    "version": 3
   },
   "file_extension": ".py",
   "mimetype": "text/x-python",
   "name": "python",
   "nbconvert_exporter": "python",
   "pygments_lexer": "ipython3",
   "version": "3.6.6"
  }
 },
 "nbformat": 4,
 "nbformat_minor": 2
}
